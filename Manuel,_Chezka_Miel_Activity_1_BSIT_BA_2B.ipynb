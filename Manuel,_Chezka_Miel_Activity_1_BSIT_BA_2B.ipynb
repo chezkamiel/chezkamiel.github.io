{
  "nbformat": 4,
  "nbformat_minor": 0,
  "metadata": {
    "colab": {
      "provenance": [],
      "authorship_tag": "ABX9TyMzwhv8SZwO/qG6lNVIWizf",
      "include_colab_link": true
    },
    "kernelspec": {
      "name": "python3",
      "display_name": "Python 3"
    },
    "language_info": {
      "name": "python"
    }
  },
  "cells": [
    {
      "cell_type": "markdown",
      "metadata": {
        "id": "view-in-github",
        "colab_type": "text"
      },
      "source": [
        "<a href=\"https://colab.research.google.com/github/chezkamiel/chezkamiel.github.io/blob/main/Manuel%2C_Chezka_Miel_Activity_1_BSIT_BA_2B.ipynb\" target=\"_parent\"><img src=\"https://colab.research.google.com/assets/colab-badge.svg\" alt=\"Open In Colab\"/></a>"
      ]
    },
    {
      "cell_type": "code",
      "execution_count": 5,
      "metadata": {
        "colab": {
          "base_uri": "https://localhost:8080/"
        },
        "id": "OjeWOvSyb4Dw",
        "outputId": "6ae79ba5-997d-40bf-9c2e-c988a063ac0f"
      },
      "outputs": [
        {
          "output_type": "stream",
          "name": "stdout",
          "text": [
            "Hello everyone,my name is Chezka Miel V. Manuel.\n",
            " My student number is 231-0850. I am enrolled in the course\n",
            "#544 - IT 2105 Object Oriented Programming (Python), and our instructor is Mr. Jolymar Ropal.\n",
            "Have a good day!\n"
          ]
        }
      ],
      "source": [
        "class Student:\n",
        "    # The __init__ method is the constructor method\n",
        "    def __init__(self, student_id, last_name, first_name, middle_name, course_code, subject, instructor):\n",
        "        self.student_id = student_id\n",
        "        self.last_name = last_name\n",
        "        self.first_name = first_name\n",
        "        self.middle_name = middle_name\n",
        "        self.course_code = course_code\n",
        "        self.subject = subject\n",
        "        self.instructor = instructor\n",
        "\n",
        "    # Method to display student details in the desired format\n",
        "    def display_info(self):\n",
        "        return (\n",
        "            f\"Hello everyone, my name is {self.first_name} {self.middle_name[0]}. {self.last_name}.\\n \"\n",
        "            f\"My student number is {self.student_id}. I am enrolled in the course\\n\"\n",
        "            f\"{self.course_code} - {self.subject}, and our instructor is {self.instructor}.\\n\"\n",
        "            \"Have a good day!\"\n",
        "        )\n",
        "\n",
        "# Create an instance of the Student class\n",
        "my_self = Student(\n",
        "    \"231-0850\",\n",
        "    \"Manuel\",\n",
        "    \"Chezka Miel\",\n",
        "    \"V.\",\n",
        "    \"#544\",\n",
        "    \"IT 2105 Object Oriented Programming (Python)\",\n",
        "    \"Mr. Jolymar Ropal\"\n",
        ")\n",
        "\n",
        "# Access the display_info method\n",
        "print(my_self.display_info())"
      ]
    }
  ]
}